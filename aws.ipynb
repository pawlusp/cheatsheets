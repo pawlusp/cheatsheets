{
 "cells": [
  {
   "cell_type": "markdown",
   "metadata": {},
   "source": [
    "# AWS Cheatsheet\n\nThis cheatsheet provides a quick reference for common AWS services, commands, and use cases."
   ]
  },
  {
   "cell_type": "markdown",
   "metadata": {},
   "source": [
    "## Introduction to AWS\n\nAWS (Amazon Web Services) is a cloud platform offering services like computing, storage, databases, and machine learning. Below are some key services and their purposes:\n\n- **EC2 (Elastic Compute Cloud):** Virtual servers in the cloud.\n- **S3 (Simple Storage Service):** Object storage for files and data.\n- **RDS (Relational Database Service):** Managed relational databases (e.g., MySQL, PostgreSQL).\n- **Lambda:** Serverless compute functions.\n- **CloudFormation:** Infrastructure as code to automate resource provisioning.\n- **IAM (Identity and Access Management):** User access and permissions.\n- **CloudWatch:** Monitoring and logging."
   ]
  },
  {
   "cell_type": "markdown",
   "metadata": {},
   "source": [
    "## Setting Up AWS CLI\n\n### Why?\nThe AWS CLI (Command Line Interface) allows you to interact with AWS services programmatically.\n\n### How?\n1. **Install the AWS CLI:**\n   ```bash\n   pip install awscli --upgrade\n   ```\n\n2. **Configure AWS CLI:**\n   ```bash\n   aws configure\n   ```\n   Provide your:\n   - Access Key ID\n   - Secret Access Key\n   - Default region (e.g., `us-east-1`)\n   - Default output format (e.g., `json`)"
   ]
  },
  {
   "cell_type": "markdown",
   "metadata": {},
   "source": [
    "## Common AWS Services and Commands\n\n### EC2 (Elastic Compute Cloud)\n- **Launch an EC2 instance:**\n  ```bash\n  aws ec2 run-instances \\\n      --image-id ami-12345678 \\\n      --count 1 \\\n      --instance-type t2.micro \\\n      --key-name MyKeyPair \\\n      --security-group-ids sg-12345678 \\\n      --subnet-id subnet-12345678\n  ```\n\n- **List running instances:**\n  ```bash\n  aws ec2 describe-instances\n  ```\n\n- **Stop an instance:**\n  ```bash\n  aws ec2 stop-instances --instance-ids i-12345678\n  ```"
   ]
  },
  {
   "cell_type": "markdown",
   "metadata": {},
   "source": [
    "### S3 (Simple Storage Service)\n- **Create a bucket:**\n  ```bash\n  aws s3 mb s3://my-bucket-name\n  ```\n\n- **Upload a file:**\n  ```bash\n  aws s3 cp myfile.txt s3://my-bucket-name/\n  ```\n\n- **List bucket contents:**\n  ```bash\n  aws s3 ls s3://my-bucket-name\n  ```\n\n- **Download a file:**\n  ```bash\n  aws s3 cp s3://my-bucket-name/myfile.txt .\n  ```"
   ]
  },
  {
   "cell_type": "markdown",
   "metadata": {},
   "source": [
    "### IAM (Identity and Access Management)\n- **Create a new user:**\n  ```bash\n  aws iam create-user --user-name new-user\n  ```\n\n- **Attach a policy to a user:**\n  ```bash\n  aws iam attach-user-policy \\\n      --user-name new-user \\\n      --policy-arn arn:aws:iam::aws:policy/AmazonS3FullAccess\n  ```"
   ]
  },
  {
   "cell_type": "markdown",
   "metadata": {},
   "source": [
    "### RDS (Relational Database Service)\n- **Create a database instance:**\n  ```bash\n  aws rds create-db-instance \\\n      --db-instance-identifier mydb \\\n      --db-instance-class db.t2.micro \\\n      --engine mysql \\\n      --allocated-storage 20 \\\n      --master-username admin \\\n      --master-user-password password123\n  ```\n\n- **List database instances:**\n  ```bash\n  aws rds describe-db-instances\n  ```"
   ]
  },
  {
   "cell_type": "markdown",
   "metadata": {},
   "source": [
    "### Lambda\n- **Create a Lambda function:**\n  ```bash\n  aws lambda create-function \\\n      --function-name my-function \\\n      --runtime python3.9 \\\n      --role arn:aws:iam::123456789012:role/execution-role \\\n      --handler lambda_function.lambda_handler \\\n      --zip-file fileb://function.zip\n  ```\n\n- **Invoke a Lambda function:**\n  ```bash\n  aws lambda invoke --function-name my-function output.txt\n  ```"
   ]
  },
  {
   "cell_type": "markdown",
   "metadata": {},
   "source": [
    "## Monitoring and Logging\n\n### CloudWatch\n- **View logs:**\n  ```bash\n  aws logs describe-log-groups\n  ```\n\n- **Create a log group:**\n  ```bash\n  aws logs create-log-group --log-group-name my-log-group\n  ```\n\n- **Stream logs to CloudWatch:**\n  Configure your AWS resources (e.g., Lambda) to send logs to CloudWatch."
   ]
  },
  {
   "cell_type": "markdown",
   "metadata": {},
   "source": [
    "## Infrastructure as Code with CloudFormation\n\n- **Deploy a stack:**\n  ```bash\n  aws cloudformation create-stack \\\n      --stack-name my-stack \\\n      --template-body file://template.yaml\n  ```\n\n- **List stacks:**\n  ```bash\n  aws cloudformation describe-stacks\n  ```"
   ]
  },
  {
   "cell_type": "markdown",
   "metadata": {},
   "source": [
    "## Summary\nThis cheatsheet covers essential AWS commands and services to get started with cloud computing. You can extend this with specific use cases and advanced configurations as needed."
   ]
  }
 ],
 "metadata": {
  "kernelspec": {
   "display_name": "Python 3",
   "language": "python",
   "name": "python3"
  },
  "language_info": {
   "codemirror_mode": {
    "name": "ipython",
    "version": 3
   },
   "file_extension": ".py",
   "mimetype": "text/x-python",
   "name": "python",
   "nbconvert_exporter": "python",
   "pygments_lexer": "ipython3",
   "version": "3.9.7"
  }
 },
 "nbformat": 4,
 "nbformat_minor": 5
}
