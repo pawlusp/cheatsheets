{
 "cells": [
  {
   "cell_type": "markdown",
   "id": "4df3f130",
   "metadata": {},
   "source": [
    "# SQL and Databases Cheatsheet\n",
    "\n",
    "This notebook provides a quick guide to working with SQL and databases in Python using:\n",
    "- SQLite (built-in lightweight database)\n",
    "- SQLAlchemy (ORM for advanced database interactions)\n",
    "\n",
    "We will cover:\n",
    "1. Setting up a SQLite database.\n",
    "2. Basic SQL commands.\n",
    "3. Using SQLAlchemy for database operations.\n",
    "4. Querying and displaying data using Pandas."
   ]
  },
  {
   "cell_type": "markdown",
   "id": "9210a6fe",
   "metadata": {},
   "source": [
    "## Step 1: Setting up SQLite\n",
    "\n",
    "### Why?\n",
    "SQLite is a lightweight, file-based database that is easy to set up and use for small projects or learning purposes.\n",
    "\n",
    "### How?\n",
    "Install SQLite if not already available:\n",
    "```bash\n",
    "pip install sqlite3\n",
    "```\n",
    "Create a connection to the database and a cursor to execute SQL commands."
   ]
  },
  {
   "cell_type": "code",
   "execution_count": null,
   "id": "63649803",
   "metadata": {},
   "outputs": [],
   "source": [
    "import sqlite3\n",
    "# Create a connection\n",
    "conn = sqlite3.connect('example.db')\n",
    "cursor = conn.cursor()\n",
    "\n",
    "# Create a table\n",
    "cursor.execute('''\n",
    "CREATE TABLE IF NOT EXISTS users (\n",
    "    id INTEGER PRIMARY KEY,\n",
    "    name TEXT,\n",
    "    age INTEGER,\n",
    "    email TEXT\n",
    ")\n",
    "''')\n",
    "conn.commit()"
   ]
  },
  {
   "cell_type": "markdown",
   "id": "1fdf0402",
   "metadata": {},
   "source": [
    "## Step 2: Basic SQL Commands\n",
    "\n",
    "### Why?\n",
    "To perform essential database operations like inserting, updating, deleting, and querying data.\n",
    "\n",
    "### Examples"
   ]
  },
  {
   "cell_type": "code",
   "execution_count": null,
   "id": "e7e3a158",
   "metadata": {},
   "outputs": [],
   "source": [
    "# Insert data\n",
    "cursor.execute(\n",
    "    \"INSERT INTO users (name, age, email) VALUES (?, ?, ?)\",\n",
    "    ('Alice', 30, 'alice@example.com')\n",
    ")\n",
    "conn.commit()\n",
    "\n",
    "# Query data\n",
    "cursor.execute('SELECT * FROM users')\n",
    "rows = cursor.fetchall()\n",
    "for row in rows:\n",
    "    print(row)\n",
    "\n",
    "# Update data\n",
    "cursor.execute(\n",
    "    \"UPDATE users SET age = ? WHERE name = ?\",\n",
    "    (31, 'Alice')\n",
    ")\n",
    "conn.commit()\n",
    "\n",
    "# Delete data\n",
    "cursor.execute(\n",
    "    \"DELETE FROM users WHERE name = ?\",\n",
    "    ('Alice',)\n",
    ")\n",
    "conn.commit()"
   ]
  },
  {
   "cell_type": "markdown",
   "id": "ef267242",
   "metadata": {},
   "source": [
    "## Step 3: Using SQLAlchemy\n",
    "\n",
    "### Why?\n",
    "SQLAlchemy simplifies database interactions by providing an ORM (Object-Relational Mapping) layer, making it easier to work with Python objects instead of raw SQL queries.\n",
    "\n",
    "### How?\n",
    "1. Install SQLAlchemy:\n",
    "   ```bash\n",
    "   pip install sqlalchemy\n",
    "   ```\n",
    "2. Define models to represent database tables.\n",
    "3. Use the ORM to perform CRUD operations."
   ]
  },
  {
   "cell_type": "code",
   "execution_count": null,
   "id": "6502be85",
   "metadata": {},
   "outputs": [],
   "source": [
    "from sqlalchemy import create_engine, Column, Integer, String\n",
    "from sqlalchemy.ext.declarative import declarative_base\n",
    "from sqlalchemy.orm import sessionmaker\n",
    "\n",
    "# Database setup\n",
    "engine = create_engine('sqlite:///example.db')\n",
    "Base = declarative_base()\n",
    "\n",
    "# Define a User model\n",
    "class User(Base):\n",
    "    __tablename__ = 'users'\n",
    "    id = Column(Integer, primary_key=True)\n",
    "    name = Column(String)\n",
    "    age = Column(Integer)\n",
    "    email = Column(String)\n",
    "\n",
    "Base.metadata.create_all(engine)\n",
    "\n",
    "# Create a session\n",
    "Session = sessionmaker(bind=engine)\n",
    "session = Session()\n",
    "\n",
    "# Add a user\n",
    "new_user = User(name='Bob', age=25, email='bob@example.com')\n",
    "session.add(new_user)\n",
    "session.commit()\n",
    "\n",
    "# Query users\n",
    "users = session.query(User).all()\n",
    "for user in users:\n",
    "    print(user.name, user.age, user.email)"
   ]
  },
  {
   "cell_type": "markdown",
   "id": "e3d06956",
   "metadata": {},
   "source": [
    "## Step 4: Querying with Pandas\n",
    "\n",
    "### Why?\n",
    "To leverage the power of Pandas for analyzing and visualizing database data.\n",
    "\n",
    "### How?\n",
    "Use Pandas to read SQL queries and load the results into DataFrames."
   ]
  },
  {
   "cell_type": "code",
   "execution_count": null,
   "id": "d5b7d77b",
   "metadata": {},
   "outputs": [],
   "source": [
    "import pandas as pd\n",
    "# Query the database and load data into a DataFrame\n",
    "df = pd.read_sql('SELECT * FROM users', conn)\n",
    "print(df)"
   ]
  },
  {
   "cell_type": "markdown",
   "id": "2360ebbb",
   "metadata": {},
   "source": [
    "---\n",
    "## Summary\n",
    "\n",
    "In this notebook, we've covered:\n",
    "1. Setting up and using SQLite for database operations.\n",
    "2. Performing basic SQL commands.\n",
    "3. Using SQLAlchemy for ORM-based database interactions.\n",
    "4. Querying and analyzing data with Pandas.\n",
    "\n",
    "You can expand this knowledge to work with more complex databases and queries."
   ]
  }
 ],
 "metadata": {
  "kernelspec": {
   "display_name": "Python 3 (ipykernel)",
   "language": "python",
   "name": "python3"
  },
  "language_info": {
   "codemirror_mode": {
    "name": "ipython",
    "version": 3
   },
   "file_extension": ".py",
   "mimetype": "text/x-python",
   "name": "python",
   "nbconvert_exporter": "python",
   "pygments_lexer": "ipython3",
   "version": "3.10.4"
  }
 },
 "nbformat": 4,
 "nbformat_minor": 5
}
