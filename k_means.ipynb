{
 "cells": [
  {
   "cell_type": "markdown",
   "metadata": {},
   "source": [
    "# Algorytm K Najbliższych Sąsiadów / K-Nearest Neighbors Algorithm\n",
    "\n",
    "Ten notatnik pokazuje, jak użyć algorytmu KNN do klasyfikacji oraz wizualizacji wyników.\n",
    "\n",
    "This notebook demonstrates how to use the KNN algorithm for classification and visualize the results."
   ]
  },
  {
   "cell_type": "markdown",
   "metadata": {},
   "source": [
    "## Instalacja bibliotek / Installing Libraries\n",
    "\n",
    "Jeśli biblioteki nie są zainstalowane, użyj polecenia:\n",
    "If libraries are not installed, use the command:\n",
    "```bash\n",
    "pip install matplotlib numpy sklearn\n",
    "```"
   ]
  },
  {
   "cell_type": "code",
   "execution_count": null,
   "metadata": {},
   "outputs": [],
   "source": [
    "import numpy as np\n",
    "import matplotlib.pyplot as plt\n",
    "from sklearn.model_selection import train_test_split\n",
    "from sklearn.neighbors import KNeighborsClassifier\n",
    "from sklearn.metrics import accuracy_score, classification_report\n",
    "from sklearn.datasets import make_classification"
   ]
  },
  {
   "cell_type": "markdown",
   "metadata": {},
   "source": [
    "## Generowanie danych / Generating Data"
   ]
  },
  {
   "cell_type": "code",
   "execution_count": null,
   "metadata": {},
   "outputs": [],
   "source": [
    "# Tworzenie przykładowych danych / Creating sample data\n",
    "X, y = make_classification(n_samples=200, n_features=2, n_classes=2, n_redundant=0, random_state=42)\n",
    "\n",
    "# Podział na zbiory treningowe i testowe / Splitting into train and test sets\n",
    "X_train, X_test, y_train, y_test = train_test_split(X, y, test_size=0.2, random_state=42)"
   ]
  },
  {
   "cell_type": "markdown",
   "metadata": {},
   "source": [
    "## Tworzenie modelu / Building the Model"
   ]
  },
  {
   "cell_type": "code",
   "execution_count": null,
   "metadata": {},
   "outputs": [],
   "source": [
    "# Tworzenie i trenowanie modelu KNN / Creating and training the KNN model\n",
    "knn = KNeighborsClassifier(n_neighbors=5)\n",
    "knn.fit(X_train, y_train)\n",
    "\n",
    "# Predykcja na danych testowych / Predicting on test data\n",
    "y_pred = knn.predict(X_test)\n",
    "\n",
    "# Ocena modelu / Evaluating the model\n",
    "print('Accuracy:', accuracy_score(y_test, y_pred))\n",
    "print(classification_report(y_test, y_pred))"
   ]
  },
  {
   "cell_type": "markdown",
   "metadata": {},
   "source": [
    "## Wizualizacja wyników / Visualizing Results"
   ]
  },
  {
   "cell_type": "code",
   "execution_count": null,
   "metadata": {},
   "outputs": [],
   "source": [
    "# Wizualizacja granicy decyzyjnej / Visualizing decision boundary\n",
    "def plot_decision_boundary(X, y, model):\n",
    "    h = .02  # Krok siatki / Step size in the mesh\n",
    "    x_min, x_max = X[:, 0].min() - 1, X[:, 0].max() + 1\n",
    "    y_min, y_max = X[:, 1].min() - 1, X[:, 1].max() + 1\n",
    "    xx, yy = np.meshgrid(np.arange(x_min, x_max, h),\n",
    "                         np.arange(y_min, y_max, h))\n",
    "    Z = model.predict(np.c_[xx.ravel(), yy.ravel()])\n",
    "    Z = Z.reshape(xx.shape)\n",
    "    plt.contourf(xx, yy, Z, alpha=0.8)\n",
    "    plt.scatter(X[:, 0], X[:, 1], c=y, edgecolor='k', s=20)\n",
    "    plt.title('Granica decyzyjna KNN / KNN Decision Boundary')\n",
    "    plt.show()\n",
    "\n",
    "# Rysowanie granicy decyzyjnej / Plotting the decision boundary\n",
    "plot_decision_boundary(X_test, y_test, knn)"
   ]
  },
  {
   "cell_type": "markdown",
   "metadata": {},
   "source": [
    "---\n",
    "## Podsumowanie / Summary\n",
    "\n",
    "- **KNN** jest prostym i skutecznym algorytmem klasyfikacji.\n",
    "  **KNN** is a simple and effective classification algorithm.\n",
    "- Wymaga dobrego przemyślenia liczby sąsiadów (*k*).\n",
    "  Requires careful consideration of the number of neighbors (*k*).\n",
    "- Wizualizacja pomaga zrozumieć, jak algorytm działa na danych.\n",
    "  Visualization helps understand how the algorithm works on data."
   ]
  }
 ],
 "metadata": {
  "kernelspec": {
   "display_name": "Python 3",
   "language": "python",
   "name": "python3"
  },
  "language_info": {
   "codemirror_mode": {
    "name": "ipython",
    "version": 3
   },
   "file_extension": ".py",
   "mimetype": "text/x-python",
   "name": "python",
   "nbconvert_exporter": "python",
   "pygments_lexer": "ipython3",
   "version": "3.9.7"
  }
 },
 "nbformat": 4,
 "nbformat_minor": 5
}
