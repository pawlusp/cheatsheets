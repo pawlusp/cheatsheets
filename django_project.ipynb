{
 "cells": [
  {
   "cell_type": "markdown",
   "id": "db8f2cad",
   "metadata": {},
   "source": [
    "# Django Project Walkthrough\n",
    "\n",
    "In this walkthrough, we will create a Django project that incorporates the following functionalities:\n",
    "- User authentication (login and registration).\n",
    "- A page displaying a table populated from a database (using Pandas).\n",
    "- A page with data visualizations.\n",
    "\n",
    "This guide will explain the steps in detail and the purpose behind each action."
   ]
  },
  {
   "cell_type": "markdown",
   "id": "9be29126",
   "metadata": {},
   "source": [
    "## Step 1: Setting up the Django Project\n",
    "\n",
    "### Why?\n",
    "To initialize a new Django application, we need a project structure to organize our code.\n",
    "\n",
    "### How?\n",
    "1. Install Django:\n",
    "   ```bash\n",
    "   pip install django\n",
    "   ```\n",
    "2. Create a new project:\n",
    "   ```bash\n",
    "   django-admin startproject myproject\n",
    "   cd myproject\n",
    "   ```\n",
    "3. Create a new app within the project:\n",
    "   ```bash\n",
    "   python manage.py startapp mainapp\n",
    "   ```"
   ]
  },
  {
   "cell_type": "markdown",
   "id": "609624e6",
   "metadata": {},
   "source": [
    "## Step 2: Setting up User Authentication\n",
    "\n",
    "### Why?\n",
    "To allow users to log in and register, we need to implement an authentication system.\n",
    "\n",
    "### How?\n",
    "1. Add `mainapp` to `INSTALLED_APPS` in `settings.py`.\n",
    "2. Create models for user data (optional, Django has built-in models).\n",
    "3. Create views and templates for login and registration pages.\n",
    "4. Use Django's authentication framework to handle user login and logout.\n",
    "\n",
    "#### Example: Login View\n",
    "```python\n",
    "from django.shortcuts import render, redirect\n",
    "from django.contrib.auth import authenticate, login\n",
    "\n",
    "def login_view(request):\n",
    "    if request.method == 'POST':\n",
    "        username = request.POST['username']\n",
    "        password = request.POST['password']\n",
    "        user = authenticate(request, username=username, password=password)\n",
    "        if user is not None:\n",
    "            login(request, user)\n",
    "            return redirect('home')\n",
    "        else:\n",
    "            return render(request, 'login.html', {'error': 'Invalid credentials'})\n",
    "    return render(request, 'login.html')\n",
    "```"
   ]
  },
  {
   "cell_type": "markdown",
   "id": "c83fe5ba",
   "metadata": {},
   "source": [
    "## Step 3: Adding a Table Page\n",
    "\n",
    "### Why?\n",
    "To display data from the database in a structured and readable format.\n",
    "\n",
    "### How?\n",
    "1. Create a model for the data to be displayed.\n",
    "2. Populate the database using Django's admin panel or fixtures.\n",
    "3. Use Pandas to read and process the data (optional, if transformations are needed).\n",
    "4. Pass the data to a template and render it as an HTML table.\n",
    "\n",
    "#### Example: Table View\n",
    "```python\n",
    "import pandas as pd\n",
    "from django.shortcuts import render\n",
    "from .models import MyModel\n",
    "\n",
    "def table_view(request):\n",
    "    data = MyModel.objects.all()\n",
    "    df = pd.DataFrame(list(data.values()))\n",
    "    return render(request, 'table.html', {'data': df.to_html(classes='table')})\n",
    "```"
   ]
  },
  {
   "cell_type": "markdown",
   "id": "529e2aa3",
   "metadata": {},
   "source": [
    "## Step 4: Adding a Visualization Page\n",
    "\n",
    "### Why?\n",
    "To provide insights through graphical representations of data.\n",
    "\n",
    "### How?\n",
    "1. Use Matplotlib or Plotly for generating visualizations.\n",
    "2. Pass the visualization as an image or interactive graph to the template.\n",
    "\n",
    "#### Example: Visualization View\n",
    "```python\n",
    "import matplotlib.pyplot as plt\n",
    "import io, base64\n",
    "from django.shortcuts import render\n",
    "\n",
    "def visualization_view(request):\n",
    "    # Sample data\n",
    "    plt.figure(figsize=(6, 4))\n",
    "    plt.plot([1, 2, 3], [4, 5, 6])\n",
    "    plt.title('Sample Visualization')\n",
    "    buf = io.BytesIO()\n",
    "    plt.savefig(buf, format='png')\n",
    "    buf.seek(0)\n",
    "    image_base64 = base64.b64encode(buf.read()).decode('utf-8')\n",
    "    buf.close()\n",
    "    return render(request, 'visualization.html', {'graph': image_base64})\n",
    "```"
   ]
  },
  {
   "cell_type": "markdown",
   "id": "d49595fa",
   "metadata": {},
   "source": [
    "## Step 5: Setting Up URLs and Templates\n",
    "\n",
    "### Why?\n",
    "To connect the views to specific URLs and render the appropriate templates.\n",
    "\n",
    "### How?\n",
    "1. Define URL patterns in `urls.py`.\n",
    "2. Create HTML templates for each page.\n",
    "\n",
    "#### Example: URLs\n",
    "```python\n",
    "from django.urls import path\n",
    "from . import views\n",
    "\n",
    "urlpatterns = [\n",
    "    path('login/', views.login_view, name='login'),\n",
    "    path('table/', views.table_view, name='table'),\n",
    "    path('visualization/', views.visualization_view, name='visualization'),\n",
    "]\n",
    "```"
   ]
  },
  {
   "cell_type": "markdown",
   "id": "8f5095ef",
   "metadata": {},
   "source": [
    "## Summary\n",
    "\n",
    "In this project, we've covered:\n",
    "- Setting up a Django project and app.\n",
    "- Implementing user authentication.\n",
    "- Displaying data in a table format.\n",
    "- Visualizing data with graphs.\n",
    "\n",
    "This structure can be extended to add more features or customize existing ones."
   ]
  }
 ],
 "metadata": {
  "kernelspec": {
   "display_name": "Python 3 (ipykernel)",
   "language": "python",
   "name": "python3"
  },
  "language_info": {
   "codemirror_mode": {
    "name": "ipython",
    "version": 3
   },
   "file_extension": ".py",
   "mimetype": "text/x-python",
   "name": "python",
   "nbconvert_exporter": "python",
   "pygments_lexer": "ipython3",
   "version": "3.10.4"
  }
 },
 "nbformat": 4,
 "nbformat_minor": 5
}
