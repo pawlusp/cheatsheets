{
 "cells": [
  {
   "cell_type": "markdown",
   "id": "3ba8bd93",
   "metadata": {},
   "source": [
    "# Regresja Logistyczna / Logistic Regression\n",
    "\n",
    "Ten notatnik pokazuje, jak zastosować regresję logistyczną do klasyfikacji binarnej, oceny modelu i wizualizacji wyników.\n",
    "\n",
    "This notebook demonstrates how to use logistic regression for binary classification, model evaluation, and result visualization."
   ]
  },
  {
   "cell_type": "markdown",
   "id": "b62f7bc6",
   "metadata": {},
   "source": [
    "## Instalacja bibliotek / Installing Libraries\n",
    "\n",
    "Jeśli biblioteki nie są zainstalowane, użyj polecenia:\n",
    "If libraries are not installed, use the command:\n",
    "```bash\n",
    "pip install matplotlib numpy pandas sklearn\n",
    "```"
   ]
  },
  {
   "cell_type": "code",
   "execution_count": null,
   "id": "edc51d21",
   "metadata": {},
   "outputs": [],
   "source": [
    "import numpy as np\n",
    "import pandas as pd\n",
    "import matplotlib.pyplot as plt\n",
    "from sklearn.model_selection import train_test_split\n",
    "from sklearn.linear_model import LogisticRegression\n",
    "from sklearn.metrics import accuracy_score, confusion_matrix, classification_report, roc_curve, auc"
   ]
  },
  {
   "cell_type": "markdown",
   "id": "27966dca",
   "metadata": {},
   "source": [
    "## Generowanie danych / Generating Data"
   ]
  },
  {
   "cell_type": "code",
   "execution_count": null,
   "id": "972dc02e",
   "metadata": {},
   "outputs": [],
   "source": [
    "# Tworzenie sztucznego zbioru danych / Creating synthetic dataset\n",
    "from sklearn.datasets import make_classification\n",
    "X, y = make_classification(n_samples=1000, n_features=2, n_classes=2, \n",
    "                           n_informative=2, n_redundant=0, random_state=42)\n",
    "\n",
    "# Podział na zbiory treningowe i testowe / Splitting into train and test sets\n",
    "X_train, X_test, y_train, y_test = train_test_split(X, y, test_size=0.2, random_state=42)"
   ]
  },
  {
   "cell_type": "markdown",
   "id": "0b81ec91",
   "metadata": {},
   "source": [
    "## Tworzenie modelu / Building the Model"
   ]
  },
  {
   "cell_type": "code",
   "execution_count": null,
   "id": "1ffe308b",
   "metadata": {},
   "outputs": [],
   "source": [
    "# Tworzenie i trenowanie modelu regresji logistycznej / Creating and training the logistic regression model\n",
    "log_reg = LogisticRegression()\n",
    "log_reg.fit(X_train, y_train)\n",
    "\n",
    "# Predykcja na danych testowych / Predicting on test data\n",
    "y_pred = log_reg.predict(X_test)\n",
    "\n",
    "# Ocena modelu / Evaluating the model\n",
    "print('Accuracy:', accuracy_score(y_test, y_pred))\n",
    "print('Confusion Matrix:\n",
    "', confusion_matrix(y_test, y_pred))\n",
    "print('Classification Report:\n",
    "', classification_report(y_test, y_pred))"
   ]
  },
  {
   "cell_type": "markdown",
   "id": "9d47e37b",
   "metadata": {},
   "source": [
    "## Wizualizacja wyników / Visualizing Results"
   ]
  },
  {
   "cell_type": "code",
   "execution_count": null,
   "id": "1674d8bb",
   "metadata": {},
   "outputs": [],
   "source": [
    "# Krzywa ROC / ROC Curve\n",
    "y_proba = log_reg.predict_proba(X_test)[:, 1]\n",
    "fpr, tpr, _ = roc_curve(y_test, y_proba)\n",
    "roc_auc = auc(fpr, tpr)\n",
    "\n",
    "plt.figure()\n",
    "plt.plot(fpr, tpr, color='darkorange', lw=2, label=f'ROC curve (area = {roc_auc:.2f})')\n",
    "plt.plot([0, 1], [0, 1], color='navy', lw=2, linestyle='--')\n",
    "plt.xlabel('False Positive Rate')\n",
    "plt.ylabel('True Positive Rate')\n",
    "plt.title('ROC Curve')\n",
    "plt.legend(loc='lower right')\n",
    "plt.show()"
   ]
  },
  {
   "cell_type": "markdown",
   "id": "b191b93a",
   "metadata": {},
   "source": [
    "---\n",
    "## Podsumowanie / Summary\n",
    "\n",
    "- **Regresja logistyczna** jest podstawowym algorytmem klasyfikacji binarnej.\n",
    "  **Logistic regression** is a fundamental algorithm for binary classification.\n",
    "- Kluczowe metryki to: Accuracy, Precision, Recall, F1-score, oraz AUC.\n",
    "  Key metrics include: Accuracy, Precision, Recall, F1-score, and AUC.\n",
    "- Krzywa ROC pozwala wizualizować zdolności modelu do klasyfikacji.\n",
    "  The ROC curve visualizes the model's classification ability."
   ]
  }
 ],
 "metadata": {
  "kernelspec": {
   "display_name": "Python 3 (ipykernel)",
   "language": "python",
   "name": "python3"
  },
  "language_info": {
   "codemirror_mode": {
    "name": "ipython",
    "version": 3
   },
   "file_extension": ".py",
   "mimetype": "text/x-python",
   "name": "python",
   "nbconvert_exporter": "python",
   "pygments_lexer": "ipython3",
   "version": "3.10.4"
  }
 },
 "nbformat": 4,
 "nbformat_minor": 5
}
