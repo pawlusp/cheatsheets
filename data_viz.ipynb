{
 "cells": [
  {
   "cell_type": "markdown",
   "id": "26d828ce",
   "metadata": {},
   "source": [
    "# Wizualizacja danych / Data Visualization\n",
    "\n",
    "Ten notatnik zawiera przykłady wizualizacji danych w Pythonie przy użyciu bibliotek:\n",
    "- **Matplotlib**: podstawowe wykresy\n",
    "- **Seaborn**: zaawansowane wizualizacje\n",
    "- **Plotly**: interaktywne wykresy\n",
    "\n",
    "This notebook contains examples of data visualization in Python using libraries:\n",
    "- **Matplotlib**: basic plots\n",
    "- **Seaborn**: advanced visualizations\n",
    "- **Plotly**: interactive plots\n",
    "\n",
    "---"
   ]
  },
  {
   "cell_type": "markdown",
   "id": "6f1aa1ea",
   "metadata": {},
   "source": [
    "## Instalacja bibliotek / Installing libraries\n",
    "\n",
    "Jeśli biblioteki nie są zainstalowane, użyj poleceń:\n",
    "If libraries are not installed, use the commands:\n",
    "```bash\n",
    "pip install matplotlib seaborn plotly\n",
    "```"
   ]
  },
  {
   "cell_type": "code",
   "execution_count": null,
   "id": "922c51c4",
   "metadata": {},
   "outputs": [],
   "source": [
    "import numpy as np\n",
    "import pandas as pd\n",
    "import matplotlib.pyplot as plt\n",
    "import seaborn as sns\n",
    "import plotly.express as px\n",
    "\n",
    "# Przykładowy zbiór danych / Sample dataset\n",
    "data = pd.DataFrame({\n",
    "    'Category': ['A', 'B', 'C', 'D'],\n",
    "    'Values': [23, 45, 56, 78],\n",
    "    'Group': ['X', 'X', 'Y', 'Y']\n",
    "})"
   ]
  },
  {
   "cell_type": "markdown",
   "id": "6480b22d",
   "metadata": {},
   "source": [
    "## Matplotlib - Podstawowe wykresy / Basic Plots"
   ]
  },
  {
   "cell_type": "code",
   "execution_count": null,
   "id": "69fc17f8",
   "metadata": {},
   "outputs": [],
   "source": [
    "# Wykres słupkowy / Bar Plot\n",
    "plt.bar(data['Category'], data['Values'], color='skyblue')\n",
    "plt.title('Wykres słupkowy / Bar Plot')\n",
    "plt.xlabel('Kategoria / Category')\n",
    "plt.ylabel('Wartości / Values')\n",
    "plt.show()\n",
    "\n",
    "# Wykres liniowy / Line Plot\n",
    "plt.plot(data['Category'], data['Values'], marker='o', linestyle='-', color='green')\n",
    "plt.title('Wykres liniowy / Line Plot')\n",
    "plt.xlabel('Kategoria / Category')\n",
    "plt.ylabel('Wartości / Values')\n",
    "plt.show()"
   ]
  },
  {
   "cell_type": "markdown",
   "id": "17761895",
   "metadata": {},
   "source": [
    "## Seaborn - Zaawansowane wizualizacje / Advanced Visualizations"
   ]
  },
  {
   "cell_type": "code",
   "execution_count": null,
   "id": "fcbdefef",
   "metadata": {},
   "outputs": [],
   "source": [
    "# Wykres pudełkowy / Box Plot\n",
    "sns.boxplot(x='Group', y='Values', data=data, palette='Set2')\n",
    "plt.title('Wykres pudełkowy / Box Plot')\n",
    "plt.show()\n",
    "\n",
    "# Wykres punktowy / Scatter Plot\n",
    "sns.scatterplot(x='Category', y='Values', hue='Group', data=data, palette='Set1', s=100)\n",
    "plt.title('Wykres punktowy / Scatter Plot')\n",
    "plt.show()"
   ]
  },
  {
   "cell_type": "markdown",
   "id": "b11c8cfb",
   "metadata": {},
   "source": [
    "## Plotly - Interaktywne wizualizacje / Interactive Visualizations"
   ]
  },
  {
   "cell_type": "code",
   "execution_count": null,
   "id": "c4177f2e",
   "metadata": {},
   "outputs": [],
   "source": [
    "# Interaktywny wykres słupkowy / Interactive Bar Chart\n",
    "fig = px.bar(data, x='Category', y='Values', color='Group', title='Interaktywny wykres słupkowy / Interactive Bar Chart')\n",
    "fig.show()\n",
    "\n",
    "# Interaktywny wykres liniowy / Interactive Line Chart\n",
    "fig = px.line(data, x='Category', y='Values', color='Group', title='Interaktywny wykres liniowy / Interactive Line Chart', markers=True)\n",
    "fig.show()"
   ]
  },
  {
   "cell_type": "markdown",
   "id": "6e2eafbd",
   "metadata": {},
   "source": [
    "---\n",
    "## Podsumowanie / Summary\n",
    "\n",
    "- **Matplotlib**: Do prostych, niestandardowych wizualizacji.\n",
    "  Useful for simple and custom visualizations.\n",
    "- **Seaborn**: Idealne do pracy z danymi Pandas.\n",
    "  Perfect for working with Pandas data.\n",
    "- **Plotly**: Najlepsze do interaktywnych wykresów.\n",
    "  Best for interactive plots."
   ]
  }
 ],
 "metadata": {
  "kernelspec": {
   "display_name": "Python 3 (ipykernel)",
   "language": "python",
   "name": "python3"
  },
  "language_info": {
   "codemirror_mode": {
    "name": "ipython",
    "version": 3
   },
   "file_extension": ".py",
   "mimetype": "text/x-python",
   "name": "python",
   "nbconvert_exporter": "python",
   "pygments_lexer": "ipython3",
   "version": "3.10.4"
  }
 },
 "nbformat": 4,
 "nbformat_minor": 5
}
