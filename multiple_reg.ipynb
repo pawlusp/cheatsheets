{
 "cells": [
  {
   "cell_type": "markdown",
   "id": "aa533c02",
   "metadata": {},
   "source": [
    "# Regresja Wieloraka / Multiple Regression\n",
    "\n",
    "Ten notatnik pokazuje, jak użyć regresji wielorakiej do analizy danych, oceny modelu oraz wizualizacji wyników.\n",
    "\n",
    "This notebook demonstrates how to use multiple regression for data analysis, model evaluation, and result visualization."
   ]
  },
  {
   "cell_type": "markdown",
   "id": "8d1bdc9c",
   "metadata": {},
   "source": [
    "## Instalacja bibliotek / Installing Libraries\n",
    "\n",
    "Jeśli biblioteki nie są zainstalowane, użyj polecenia:\n",
    "If libraries are not installed, use the command:\n",
    "```bash\n",
    "pip install matplotlib numpy pandas sklearn\n",
    "```"
   ]
  },
  {
   "cell_type": "code",
   "execution_count": null,
   "id": "69abde1e",
   "metadata": {},
   "outputs": [],
   "source": [
    "import numpy as np\n",
    "import pandas as pd\n",
    "import matplotlib.pyplot as plt\n",
    "from sklearn.model_selection import train_test_split\n",
    "from sklearn.linear_model import LinearRegression\n",
    "from sklearn.metrics import mean_squared_error, r2_score"
   ]
  },
  {
   "cell_type": "markdown",
   "id": "7fa15f61",
   "metadata": {},
   "source": [
    "## Generowanie danych / Generating Data"
   ]
  },
  {
   "cell_type": "code",
   "execution_count": null,
   "id": "04727095",
   "metadata": {},
   "outputs": [],
   "source": [
    "# Tworzenie sztucznego zbioru danych / Creating synthetic dataset\n",
    "np.random.seed(42)\n",
    "X1 = 2 * np.random.rand(100, 1)\n",
    "X2 = 3 * np.random.rand(100, 1)\n",
    "y = 5 + 2 * X1 + 3 * X2 + np.random.randn(100, 1)\n",
    "\n",
    "# Tworzenie DataFrame dla przejrzystości / Creating a DataFrame for clarity\n",
    "data = pd.DataFrame({\n",
    "    'X1': X1.flatten(),\n",
    "    'X2': X2.flatten(),\n",
    "    'y': y.flatten()\n",
    "})\n",
    "\n",
    "# Podział na zbiory treningowe i testowe / Splitting into train and test sets\n",
    "X = data[['X1', 'X2']]\n",
    "y = data['y']\n",
    "X_train, X_test, y_train, y_test = train_test_split(X, y, test_size=0.2, random_state=42)"
   ]
  },
  {
   "cell_type": "markdown",
   "id": "9d09eec3",
   "metadata": {},
   "source": [
    "## Tworzenie modelu / Building the Model"
   ]
  },
  {
   "cell_type": "code",
   "execution_count": null,
   "id": "d0f42109",
   "metadata": {},
   "outputs": [],
   "source": [
    "# Tworzenie i trenowanie modelu regresji wielorakiej / Creating and training the multiple regression model\n",
    "multi_reg = LinearRegression()\n",
    "multi_reg.fit(X_train, y_train)\n",
    "\n",
    "# Predykcja na danych testowych / Predicting on test data\n",
    "y_pred = multi_reg.predict(X_test)\n",
    "\n",
    "# Ocena modelu / Evaluating the model\n",
    "print('Mean Squared Error:', mean_squared_error(y_test, y_pred))\n",
    "print('R^2 Score:', r2_score(y_test, y_pred))"
   ]
  },
  {
   "cell_type": "markdown",
   "id": "9f0a377c",
   "metadata": {},
   "source": [
    "## Wizualizacja wyników / Visualizing Results"
   ]
  },
  {
   "cell_type": "code",
   "execution_count": null,
   "id": "cb4f0de7",
   "metadata": {},
   "outputs": [],
   "source": [
    "# Wizualizacja rzeczywistych vs przewidywanych wartości / Visualizing actual vs predicted values\n",
    "plt.scatter(y_test, y_pred, color='blue', label='Przewidywane vs Rzeczywiste / Predicted vs Actual')\n",
    "plt.plot([y_test.min(), y_test.max()], [y_test.min(), y_test.max()], 'k--', linewidth=2, label='Idealna linia / Ideal Line')\n",
    "plt.title('Regresja wieloraka / Multiple Regression')\n",
    "plt.xlabel('Rzeczywiste wartości / Actual Values')\n",
    "plt.ylabel('Przewidywane wartości / Predicted Values')\n",
    "plt.legend()\n",
    "plt.show()"
   ]
  },
  {
   "cell_type": "markdown",
   "id": "ccf73cad",
   "metadata": {},
   "source": [
    "---\n",
    "## Podsumowanie / Summary\n",
    "\n",
    "- **Regresja wieloraka** rozszerza regresję liniową, pozwalając na wiele zmiennych objaśniających.\n",
    "  **Multiple regression** extends linear regression by allowing multiple explanatory variables.\n",
    "- Kluczowe metryki oceny to Mean Squared Error i R^2 Score.\n",
    "  Key evaluation metrics include Mean Squared Error and R^2 Score."
   ]
  }
 ],
 "metadata": {
  "kernelspec": {
   "display_name": "Python 3 (ipykernel)",
   "language": "python",
   "name": "python3"
  },
  "language_info": {
   "codemirror_mode": {
    "name": "ipython",
    "version": 3
   },
   "file_extension": ".py",
   "mimetype": "text/x-python",
   "name": "python",
   "nbconvert_exporter": "python",
   "pygments_lexer": "ipython3",
   "version": "3.10.4"
  }
 },
 "nbformat": 4,
 "nbformat_minor": 5
}
