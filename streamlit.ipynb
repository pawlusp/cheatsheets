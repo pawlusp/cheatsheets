{
 "cells": [
  {
   "cell_type": "markdown",
   "metadata": {},
   "source": [
    "# Streamlit - Przewodnik i Ściągawka / Streamlit - Guide and Cheat Sheet\n",
    "\n",
    "Streamlit to biblioteka w Pythonie pozwalająca szybko tworzyć aplikacje webowe.\n",
    "Streamlit is a Python library for quickly building web applications.\n",
    "\n",
    "---\n",
    "## Instalacja / Installation\n",
    "\n",
    "### Polecenie w terminalu / Command in terminal:\n",
    "```bash\n",
    "pip install streamlit\n",
    "```\n",
    "\n",
    "---"
   ]
  },
  {
   "cell_type": "markdown",
   "metadata": {},
   "source": [
    "## Podstawy Streamlit / Streamlit Basics\n",
    "Każdy plik Streamlit to zwykły skrypt Pythona. Używamy funkcji Streamlit do tworzenia komponentów interfejsu.\n",
    "Every Streamlit file is a regular Python script. Use Streamlit functions to create UI components."
   ]
  },
  {
   "cell_type": "code",
   "execution_count": null,
   "metadata": {},
   "outputs": [],
   "source": [
    "import streamlit as st\n",
    "\n",
    "# Tytuł aplikacji / App title\n",
    "st.title(\"Moja pierwsza aplikacja Streamlit / My First Streamlit App\")\n",
    "\n",
    "# Nagłówek / Header\n",
    "st.header(\"Nagłówek aplikacji / App Header\")\n",
    "\n",
    "# Tekst / Text\n",
    "st.write(\"To jest podstawowy tekst w Streamlit. / This is basic text in Streamlit.\")"
   ]
  },
  {
   "cell_type": "markdown",
   "metadata": {},
   "source": [
    "## Interaktywne elementy / Interactive Elements"
   ]
  },
  {
   "cell_type": "code",
   "execution_count": null,
   "metadata": {},
   "outputs": [],
   "source": [
    "# Pole tekstowe / Text Input\n",
    "name = st.text_input(\"Jak masz na imię? / What is your name?\")\n",
    "\n",
    "# Przycisk / Button\n",
    "if st.button(\"Kliknij mnie / Click me\"):\n",
    "    st.write(f\"Cześć, {name}! / Hello, {name}!\")\n",
    "\n",
    "# Suwak / Slider\n",
    "age = st.slider(\"Ile masz lat? / How old are you?\", 0, 100, 25)\n",
    "st.write(f\"Masz {age} lat. / You are {age} years old.\")"
   ]
  },
  {
   "cell_type": "markdown",
   "metadata": {},
   "source": [
    "## Wyświetlanie danych / Displaying Data"
   ]
  },
  {
   "cell_type": "code",
   "execution_count": null,
   "metadata": {},
   "outputs": [],
   "source": [
    "import pandas as pd\n",
    "import numpy as np\n",
    "\n",
    "# Tabela danych / Data Table\n",
    "data = pd.DataFrame(\n",
    "    np.random.randn(10, 5),\n",
    "    columns=(\"Kol1\", \"Kol2\", \"Kol3\", \"Kol4\", \"Kol5\")\n",
    ")\n",
    "st.dataframe(data)\n",
    "\n",
    "# Wykres liniowy / Line Chart\n",
    "st.line_chart(data)"
   ]
  },
  {
   "cell_type": "markdown",
   "metadata": {},
   "source": [
    "## Przesyłanie plików / File Uploads"
   ]
  },
  {
   "cell_type": "code",
   "execution_count": null,
   "metadata": {},
   "outputs": [],
   "source": [
    "# Przesyłanie pliku / File Upload\n",
    "uploaded_file = st.file_uploader(\"Prześlij plik CSV / Upload a CSV file\")\n",
    "\n",
    "if uploaded_file is not None:\n",
    "    df = pd.read_csv(uploaded_file)\n",
    "    st.write(df)"
   ]
  },
  {
   "cell_type": "markdown",
   "metadata": {},
   "source": [
    "## Układ aplikacji / App Layout"
   ]
  },
  {
   "cell_type": "code",
   "execution_count": null,
   "metadata": {},
   "outputs": [],
   "source": [
    "# Kolumny / Columns\n",
    "col1, col2 = st.columns(2)\n",
    "\n",
    "with col1:\n",
    "    st.write(\"To jest kolumna 1 / This is column 1\")\n",
    "\n",
    "with col2:\n",
    "    st.write(\"To jest kolumna 2 / This is column 2\")\n",
    "\n",
    "# Zakładki / Tabs\n",
    "tab1, tab2 = st.tabs([\"Zakładka 1 / Tab 1\", \"Zakładka 2 / Tab 2\"])\n",
    "\n",
    "with tab1:\n",
    "    st.write(\"Zawartość zakładki 1 / Content of Tab 1\")\n",
    "\n",
    "with tab2:\n",
    "    st.write(\"Zawartość zakładki 2 / Content of Tab 2\")"
   ]
  },
  {
   "cell_type": "markdown",
   "metadata": {},
   "source": [
    "## Uruchamianie aplikacji / Running the App\n",
    "\n",
    "1. Zapisz ten kod w pliku, np. `app.py`.\n",
    "   Save this code in a file, e.g., `app.py`.\n",
    "\n",
    "2. Otwórz terminal i przejdź do katalogu z plikiem.\n",
    "   Open the terminal and navigate to the directory containing the file.\n",
    "\n",
    "3. Uruchom aplikację poleceniem:\n",
    "   Run the app with the command:\n",
    "   ```bash\n",
    "   streamlit run app.py\n",
    "   ```\n",
    "\n",
    "4. Aplikacja otworzy się w przeglądarce na lokalnym serwerze.\n",
    "   The app will open in the browser on a local server.\n",
    "\n",
    "---\n",
    "### Gratulacje! / Congratulations!\n",
    "Poznałeś podstawy Streamlit. Teraz możesz tworzyć własne aplikacje!\n",
    "You have learned the basics of Streamlit. Now you can build your own apps!"
   ]
  }
 ],
 "metadata": {
  "kernelspec": {
   "display_name": "Python 3",
   "language": "python",
   "name": "python3"
  },
  "language_info": {
   "codemirror_mode": {
    "name": "ipython",
    "version": 3
   },
   "file_extension": ".py",
   "mimetype": "text/x-python",
   "name": "python",
   "nbconvert_exporter": "python",
   "pygments_lexer": "ipython3",
   "version": "3.9.7"
  }
 },
 "nbformat": 4,
 "nbformat_minor": 5
}
