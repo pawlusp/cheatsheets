{
 "cells": [
  {
   "cell_type": "markdown",
   "metadata": {},
   "source": [
    "# Drzewa Decyzyjne / Decision Trees\n",
    "\n",
    "Ten notatnik demonstruje tworzenie drzewa decyzyjnego, ocenę modelu i wizualizację wyników.\n",
    "\n",
    "This notebook demonstrates creating a decision tree, evaluating the model, and visualizing results."
   ]
  },
  {
   "cell_type": "markdown",
   "metadata": {},
   "source": [
    "## Instalacja bibliotek / Installing Libraries\n",
    "\n",
    "Jeśli biblioteki nie są zainstalowane, użyj polecenia:\n",
    "If libraries are not installed, use the command:\n",
    "```bash\n",
    "pip install matplotlib numpy pandas sklearn graphviz\n",
    "```"
   ]
  },
  {
   "cell_type": "code",
   "execution_count": null,
   "metadata": {},
   "outputs": [],
   "source": [
    "import numpy as np\n",
    "import pandas as pd\n",
    "import matplotlib.pyplot as plt\n",
    "from sklearn.model_selection import train_test_split\n",
    "from sklearn.tree import DecisionTreeClassifier, export_text, plot_tree\n",
    "from sklearn.metrics import accuracy_score, confusion_matrix, classification_report"
   ]
  },
  {
   "cell_type": "markdown",
   "metadata": {},
   "source": [
    "## Generowanie danych / Generating Data"
   ]
  },
  {
   "cell_type": "code",
   "execution_count": null,
   "metadata": {},
   "outputs": [],
   "source": [
    "# Tworzenie sztucznego zbioru danych / Creating synthetic dataset\n",
    "from sklearn.datasets import make_classification\n",
    "X, y = make_classification(n_samples=1000, n_features=4, n_classes=2, \n",
    "                           n_informative=3, n_redundant=1, random_state=42)\n",
    "\n",
    "# Podział na zbiory treningowe i testowe / Splitting into train and test sets\n",
    "X_train, X_test, y_train, y_test = train_test_split(X, y, test_size=0.2, random_state=42)"
   ]
  },
  {
   "cell_type": "markdown",
   "metadata": {},
   "source": [
    "## Tworzenie modelu / Building the Model"
   ]
  },
  {
   "cell_type": "code",
   "execution_count": null,
   "metadata": {},
   "outputs": [],
   "source": [
    "# Tworzenie i trenowanie drzewa decyzyjnego / Creating and training the decision tree\n",
    "decision_tree = DecisionTreeClassifier(max_depth=3, random_state=42)\n",
    "decision_tree.fit(X_train, y_train)\n",
    "\n",
    "# Predykcja na danych testowych / Predicting on test data\n",
    "y_pred = decision_tree.predict(X_test)\n",
    "\n",
    "# Ocena modelu / Evaluating the model\n",
    "print('Accuracy:', accuracy_score(y_test, y_pred))\n",
    "print('Confusion Matrix:\n', confusion_matrix(y_test, y_pred))\n",
    "print('Classification Report:\n', classification_report(y_test, y_pred))"
   ]
  },
  {
   "cell_type": "markdown",
   "metadata": {},
   "source": [
    "## Wizualizacja drzewa / Visualizing the Tree"
   ]
  },
  {
   "cell_type": "code",
   "execution_count": null,
   "metadata": {},
   "outputs": [],
   "source": [
    "# Wizualizacja drzewa decyzyjnego / Visualizing the decision tree\n",
    "plt.figure(figsize=(12, 8))\n",
    "plot_tree(decision_tree, filled=True, feature_names=[f'Feature {i}' for i in range(X.shape[1])], class_names=['Class 0', 'Class 1'])\n",
    "plt.title('Drzewo decyzyjne / Decision Tree')\n",
    "plt.show()\n",
    "\n",
    "# Tekstowa reprezentacja drzewa / Text representation of the tree\n",
    "tree_rules = export_text(decision_tree, feature_names=[f'Feature {i}' for i in range(X.shape[1])])\n",
    "print(tree_rules)"
   ]
  },
  {
   "cell_type": "markdown",
   "metadata": {},
   "source": [
    "---\n",
    "## Podsumowanie / Summary\n",
    "\n",
    "- **Drzewa decyzyjne** to prosty, ale skuteczny algorytm klasyfikacji i regresji.\n",
    "  **Decision trees** are a simple yet effective algorithm for classification and regression.\n",
    "- Kluczowe parametry to: `max_depth`, `min_samples_split`, `min_samples_leaf`.\n",
    "  Key parameters include: `max_depth`, `min_samples_split`, `min_samples_leaf`.\n",
    "- Drzewa są wrażliwe na przetrenowanie, więc ważne jest dostrojenie hiperparametrów.\n",
    "  Trees are prone to overfitting, so hyperparameter tuning is crucial."
   ]
  }
 ],
 "metadata": {
  "kernelspec": {
   "display_name": "Python 3",
   "language": "python",
   "name": "python3"
  },
  "language_info": {
   "codemirror_mode": {
    "name": "ipython",
    "version": 3
   },
   "file_extension": ".py",
   "mimetype": "text/x-python",
   "name": "python",
   "nbconvert_exporter": "python",
   "pygments_lexer": "ipython3",
   "version": "3.9.7"
  }
 },
 "nbformat": 4,
 "nbformat_minor": 5
}
