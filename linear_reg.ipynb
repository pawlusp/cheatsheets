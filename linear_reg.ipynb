{
 "cells": [
  {
   "cell_type": "markdown",
   "id": "3aae7f1d",
   "metadata": {},
   "source": [
    "# Regresja Liniowa / Linear Regression\n",
    "\n",
    "Ten notatnik pokazuje, jak użyć regresji liniowej do analizy danych, oceny modelu oraz wizualizacji wyników.\n",
    "\n",
    "This notebook demonstrates how to use linear regression for data analysis, model evaluation, and result visualization."
   ]
  },
  {
   "cell_type": "markdown",
   "id": "66cf575f",
   "metadata": {},
   "source": [
    "## Instalacja bibliotek / Installing Libraries\n",
    "\n",
    "Jeśli biblioteki nie są zainstalowane, użyj polecenia:\n",
    "If libraries are not installed, use the command:\n",
    "```bash\n",
    "pip install matplotlib numpy pandas sklearn\n",
    "```"
   ]
  },
  {
   "cell_type": "code",
   "execution_count": null,
   "id": "003196f2",
   "metadata": {},
   "outputs": [],
   "source": [
    "import numpy as np\n",
    "import pandas as pd\n",
    "import matplotlib.pyplot as plt\n",
    "from sklearn.model_selection import train_test_split\n",
    "from sklearn.linear_model import LinearRegression\n",
    "from sklearn.metrics import mean_squared_error, r2_score"
   ]
  },
  {
   "cell_type": "markdown",
   "id": "e1f46672",
   "metadata": {},
   "source": [
    "## Generowanie danych / Generating Data"
   ]
  },
  {
   "cell_type": "code",
   "execution_count": null,
   "id": "8357c4f0",
   "metadata": {},
   "outputs": [],
   "source": [
    "# Tworzenie sztucznego zbioru danych / Creating synthetic dataset\n",
    "np.random.seed(42)\n",
    "X = 2 * np.random.rand(100, 1)\n",
    "y = 4 + 3 * X + np.random.randn(100, 1)\n",
    "\n",
    "# Podział na zbiory treningowe i testowe / Splitting into train and test sets\n",
    "X_train, X_test, y_train, y_test = train_test_split(X, y, test_size=0.2, random_state=42)"
   ]
  },
  {
   "cell_type": "markdown",
   "id": "f0bdc1b0",
   "metadata": {},
   "source": [
    "## Tworzenie modelu / Building the Model"
   ]
  },
  {
   "cell_type": "code",
   "execution_count": null,
   "id": "07281158",
   "metadata": {},
   "outputs": [],
   "source": [
    "# Tworzenie i trenowanie modelu regresji liniowej / Creating and training the linear regression model\n",
    "lin_reg = LinearRegression()\n",
    "lin_reg.fit(X_train, y_train)\n",
    "\n",
    "# Predykcja na danych testowych / Predicting on test data\n",
    "y_pred = lin_reg.predict(X_test)\n",
    "\n",
    "# Ocena modelu / Evaluating the model\n",
    "print('Mean Squared Error:', mean_squared_error(y_test, y_pred))\n",
    "print('R^2 Score:', r2_score(y_test, y_pred))"
   ]
  },
  {
   "cell_type": "markdown",
   "id": "4dd0f690",
   "metadata": {},
   "source": [
    "## Wizualizacja wyników / Visualizing Results"
   ]
  },
  {
   "cell_type": "code",
   "execution_count": null,
   "id": "3a01809e",
   "metadata": {},
   "outputs": [],
   "source": [
    "# Rysowanie danych i linii regresji / Plotting data and regression line\n",
    "plt.scatter(X_test, y_test, color='blue', label='Dane testowe / Test Data')\n",
    "plt.plot(X_test, y_pred, color='red', linewidth=2, label='Linia regresji / Regression Line')\n",
    "plt.title('Regresja liniowa / Linear Regression')\n",
    "plt.xlabel('X')\n",
    "plt.ylabel('y')\n",
    "plt.legend()\n",
    "plt.show()"
   ]
  },
  {
   "cell_type": "markdown",
   "id": "c6dc4481",
   "metadata": {},
   "source": [
    "---\n",
    "## Podsumowanie / Summary\n",
    "\n",
    "- **Regresja liniowa** jest prostym, ale skutecznym modelem do analizy zależności między zmiennymi.\n",
    "  **Linear regression** is a simple yet effective model for analyzing relationships between variables.\n",
    "- Model zakłada liniową zależność między zmiennymi.\n",
    "  The model assumes a linear relationship between variables.\n",
    "- Kluczowe metryki oceny to Mean Squared Error i R^2 Score.\n",
    "  Key evaluation metrics include Mean Squared Error and R^2 Score."
   ]
  }
 ],
 "metadata": {
  "kernelspec": {
   "display_name": "Python 3 (ipykernel)",
   "language": "python",
   "name": "python3"
  },
  "language_info": {
   "codemirror_mode": {
    "name": "ipython",
    "version": 3
   },
   "file_extension": ".py",
   "mimetype": "text/x-python",
   "name": "python",
   "nbconvert_exporter": "python",
   "pygments_lexer": "ipython3",
   "version": "3.10.4"
  }
 },
 "nbformat": 4,
 "nbformat_minor": 5
}
