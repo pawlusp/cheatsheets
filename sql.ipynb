{
 "cells": [
  {
   "cell_type": "markdown",
   "metadata": {},
   "source": [
    "# SQL Cheatsheet\n\nThis cheatsheet covers fundamental SQL concepts and commonly used queries."
   ]
  },
  {
   "cell_type": "markdown",
   "metadata": {},
   "source": [
    "## Basics of SQL\n\nSQL (Structured Query Language) is used for managing and querying relational databases."
   ]
  },
  {
   "cell_type": "markdown",
   "metadata": {},
   "source": [
    "### Creating Tables\n\n```sql\nCREATE TABLE employees (\n    employee_id INT PRIMARY KEY,\n    first_name VARCHAR(50),\n    last_name VARCHAR(50),\n    hire_date DATE,\n    salary DECIMAL(10, 2)\n);\n```"
   ]
  },
  {
   "cell_type": "markdown",
   "metadata": {},
   "source": [
    "### Inserting Data\n\n```sql\nINSERT INTO employees (employee_id, first_name, last_name, hire_date, salary)\nVALUES (1, 'John', 'Doe', '2023-01-15', 50000.00);\n```"
   ]
  },
  {
   "cell_type": "markdown",
   "metadata": {},
   "source": [
    "### Querying Data\n\n#### Select All Columns\n```sql\nSELECT * FROM employees;\n```\n\n#### Select Specific Columns\n```sql\nSELECT first_name, last_name FROM employees;\n```"
   ]
  },
  {
   "cell_type": "markdown",
   "metadata": {},
   "source": [
    "### Filtering Data\n\n#### Using WHERE Clause\n```sql\nSELECT * FROM employees WHERE salary > 40000;\n```\n\n#### Using Logical Operators\n```sql\nSELECT * FROM employees WHERE salary > 40000 AND hire_date > '2020-01-01';\n```"
   ]
  },
  {
   "cell_type": "markdown",
   "metadata": {},
   "source": [
    "### Aggregating Data\n\n#### Using COUNT, SUM, AVG\n```sql\nSELECT COUNT(*) AS total_employees FROM employees;\nSELECT AVG(salary) AS average_salary FROM employees;\nSELECT SUM(salary) AS total_salaries FROM employees;\n```"
   ]
  },
  {
   "cell_type": "markdown",
   "metadata": {},
   "source": [
    "### Grouping Data\n\n#### Using GROUP BY\n```sql\nSELECT hire_date, COUNT(*) AS hires_per_date\nFROM employees\nGROUP BY hire_date;\n```"
   ]
  },
  {
   "cell_type": "markdown",
   "metadata": {},
   "source": [
    "### Joining Tables\n\n#### Inner Join\n```sql\nSELECT e.first_name, e.last_name, d.department_name\nFROM employees e\nINNER JOIN departments d ON e.department_id = d.department_id;\n```\n\n#### Left Join\n```sql\nSELECT e.first_name, e.last_name, d.department_name\nFROM employees e\nLEFT JOIN departments d ON e.department_id = d.department_id;\n```"
   ]
  },
  {
   "cell_type": "markdown",
   "metadata": {},
   "source": [
    "### Updating Data\n\n```sql\nUPDATE employees\nSET salary = salary * 1.1\nWHERE hire_date < '2022-01-01';\n```"
   ]
  },
  {
   "cell_type": "markdown",
   "metadata": {},
   "source": [
    "### Deleting Data\n\n#### Delete Specific Rows\n```sql\nDELETE FROM employees WHERE hire_date < '2000-01-01';\n```\n\n#### Delete All Rows\n```sql\nDELETE FROM employees;\n```"
   ]
  },
  {
   "cell_type": "markdown",
   "metadata": {},
   "source": [
    "### Creating Indexes\n\n```sql\nCREATE INDEX idx_salary ON employees (salary);\n```"
   ]
  },
  {
   "cell_type": "markdown",
   "metadata": {},
   "source": [
    "### Transactions\n\n```sql\nBEGIN;\nUPDATE employees SET salary = salary + 1000 WHERE employee_id = 1;\nROLLBACK;\n-- or\nCOMMIT;\n```"
   ]
  },
  {
   "cell_type": "markdown",
   "metadata": {},
   "source": [
    "## Summary\nThis cheatsheet provides the basics of SQL queries and database operations. You can expand it with advanced techniques like window functions, subqueries, and stored procedures."  ]
  }
 ],
 "metadata": {
  "kernelspec": {
   "display_name": "Python 3",
   "language": "python",
   "name": "python3"
  },
  "language_info": {
   "codemirror_mode": {
    "name": "ipython",
    "version": 3
   },
   "file_extension": ".py",
   "mimetype": "text/x-python",
   "name": "python",
   "nbconvert_exporter": "python",
   "pygments_lexer": "ipython3",
   "version": "3.9.7"
  }
 },
 "nbformat": 4,
 "nbformat_minor": 5
}
