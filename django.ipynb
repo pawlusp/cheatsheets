{
 "cells": [
  {
   "cell_type": "markdown",
   "metadata": {},
   "source": [
    "# Django Cheatsheet\n",
    "\n",
    "This notebook provides a quick reference for creating and working with Django projects and applications."
   ]
  },
  {
   "cell_type": "markdown",
   "metadata": {},
   "source": [
    "## Installing Django\n",
    "\n",
    "Install Django using pip:\n",
    "\n",
    "```bash\n",
    "pip install django\n",
    "```"
   ]
  },
  {
   "cell_type": "markdown",
   "metadata": {},
   "source": [
    "## Creating a Django Project\n",
    "\n",
    "To start a new Django project:\n",
    "\n",
    "```bash\n",
    "django-admin startproject project_name\n",
    "cd project_name\n",
    "```\n",
    "\n",
    "Run the development server:\n",
    "\n",
    "```bash\n",
    "python manage.py runserver\n",
    "```"
   ]
  },
  {
   "cell_type": "markdown",
   "metadata": {},
   "source": [
    "## Creating a Django App\n",
    "\n",
    "To create a new app within the project:\n",
    "\n",
    "```bash\n",
    "python manage.py startapp app_name\n",
    "```\n",
    "\n",
    "Add the app to `INSTALLED_APPS` in `settings.py`.\n",
    "\n",
    "```python\n",
    "INSTALLED_APPS = [\n",
    "    ...\n",
    "    'app_name',\n",
    "]\n",
    "```"
   ]
  },
  {
   "cell_type": "markdown",
   "metadata": {},
   "source": [
    "## Models\n",
    "\n",
    "Define database models in `models.py`:\n",
    "\n",
    "```python\n",
    "from django.db import models\n",
    "\n",
    "class Item(models.Model):\n",
    "    name = models.CharField(max_length=100)\n",
    "    description = models.TextField()\n",
    "    price = models.DecimalField(max_digits=10, decimal_places=2)\n",
    "    created_at = models.DateTimeField(auto_now_add=True)\n",
    "\n",
    "    def __str__(self):\n",
    "        return self.name\n",
    "```\n",
    "\n",
    "Apply migrations:\n",
    "\n",
    "```bash\n",
    "python manage.py makemigrations\n",
    "python manage.py migrate\n",
    "```"
   ]
  },
  {
   "cell_type": "markdown",
   "metadata": {},
   "source": [
    "## Admin Interface\n",
    "\n",
    "Register models in `admin.py` to manage them in the admin interface:\n",
    "\n",
    "```python\n",
    "from django.contrib import admin\n",
    "from .models import Item\n",
    "\n",
    "admin.site.register(Item)\n",
    "```\n",
    "\n",
    "Run the server and access the admin site at `http://127.0.0.1:8000/admin/`.\n",
    "\n",
    "Create a superuser:\n",
    "\n",
    "```bash\n",
    "python manage.py createsuperuser\n",
    "```"
   ]
  },
  {
   "cell_type": "markdown",
   "metadata": {},
   "source": [
    "## Views\n",
    "\n",
    "Define views in `views.py`:\n",
    "\n",
    "```python\n",
    "from django.shortcuts import render\n",
    "from .models import Item\n",
    "\n",
    "def item_list(request):\n",
    "    items = Item.objects.all()\n",
    "    return render(request, 'item_list.html', {'items': items})\n",
    "```"
   ]
  },
  {
   "cell_type": "markdown",
   "metadata": {},
   "source": [
    "## Templates\n",
    "\n",
    "Create an HTML template in the `templates/` directory:\n",
    "\n",
    "```html\n",
    "<!-- templates/item_list.html -->\n",
    "<!DOCTYPE html>\n",
    "<html>\n",
    "<head>\n",
    "    <title>Item List</title>\n",
    "</head>\n",
    "<body>\n",
    "    <h1>Items</h1>\n",
    "    <ul>\n",
    "        {% for item in items %}\n",
    "        <li>{{ item.name }} - {{ item.price }}</li>\n",
    "        {% endfor %}\n",
    "    </ul>\n",
    "</body>\n",
    "</html>\n",
    "```"
   ]
  },
  {
   "cell_type": "markdown",
   "metadata": {},
   "source": [
    "## URLs\n",
    "\n",
    "Define routes in `urls.py`:\n",
    "\n",
    "```python\n",
    "from django.urls import path\n",
    "from . import views\n",
    "\n",
    "urlpatterns = [\n",
    "    path('', views.item_list, name='item_list'),\n",
    "]\n",
    "```"
   ]
  },
  {
   "cell_type": "markdown",
   "metadata": {},
   "source": [
    "## Running the Application\n",
    "\n",
    "Start the development server:\n",
    "\n",
    "```bash\n",
    "python manage.py runserver\n",
    "```\n",
    "\n",
    "Access the application at `http://127.0.0.1:8000/`."
   ]
  }
 ],
 "metadata": {
  "kernelspec": {
   "display_name": "Python 3",
   "language": "python",
   "name": "python3"
  },
  "language_info": {
   "codemirror_mode": {
    "name": "ipython",
    "version": 3
   },
   "file_extension": ".py",
   "mimetype": "text/x-python",
   "name": "python",
    "nbconvert_exporter": "python",
    "pygments_lexer": "ipython3",
    "version": "3.9.7"
  }
 },
 "nbformat": 4,
 "nbformat_minor": 5
}
